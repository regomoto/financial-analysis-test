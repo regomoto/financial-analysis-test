{
 "cells": [
  {
   "cell_type": "markdown",
   "id": "dbe55b2b-6385-4600-bb84-db14a050e9ec",
   "metadata": {},
   "source": [
    "# Financial Analysis Test (Google Drive Automation)\n",
    "\n",
    "Two Purposes of exploring Google APIs:\n",
    "1. If I find a good data source, a possible way to share data and insights with others is by posting it to G-Sheets\n",
    "2. Use as a data source if there are Google Finance APIs out there"
   ]
  }
 ],
 "metadata": {
  "kernelspec": {
   "display_name": "Python 3 (ipykernel)",
   "language": "python",
   "name": "python3"
  },
  "language_info": {
   "codemirror_mode": {
    "name": "ipython",
    "version": 3
   },
   "file_extension": ".py",
   "mimetype": "text/x-python",
   "name": "python",
   "nbconvert_exporter": "python",
   "pygments_lexer": "ipython3",
   "version": "3.9.12"
  }
 },
 "nbformat": 4,
 "nbformat_minor": 5
}
